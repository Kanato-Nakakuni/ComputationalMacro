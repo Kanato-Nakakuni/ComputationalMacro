{
 "cells": [
  {
   "cell_type": "markdown",
   "id": "e5486929",
   "metadata": {},
   "source": [
    "# Counterfactual experiments\n",
    "\n",
    "Using the calibrated model we develop so far, answer the following questions.\n",
    "\n",
    "1. How do the macroeconomic variables (quantities, prices, and tax rates) change in response to the following policy change?\n",
    " - 1.1. What if we reduce the pension benefits (i.e., income replacement rate of public pension $\\theta$)?\n",
    " - 1.2. What if we increase the retirement age $J_R$?\n",
    " - 1.3. What if we fund a 10% increase in pension benefit by increasing consumption tax or labor income tax? What are the welfare effects?\n",
    "2. Why do these changes take place? Particularly for point 1.3., what accounts for the differences in the welfare effects? Do some decomposition exercise to numerically discuss this point.\n",
    "\n",
    "## Procedure\n",
    "1. Concept of the Consumption Equivalent Variation (CEV).\n",
    "2. Set a function that solves household problem with some inputs (prices, tax rates, and some other parameters such as $\\theta$ and $J_R$). \n",
    "3. Set a function that solves the equilibrium.\n",
    "4. Do the counterfactual experiments in 1 and save the results.\n",
    "5. Do the decomposition exercise on 1.3 using the function set in Procedure 2."
   ]
  }
 ],
 "metadata": {
  "language_info": {
   "name": "python"
  }
 },
 "nbformat": 4,
 "nbformat_minor": 5
}
