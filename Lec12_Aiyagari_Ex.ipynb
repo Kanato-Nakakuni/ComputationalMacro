{
 "cells": [
  {
   "cell_type": "markdown",
   "id": "a83508cb",
   "metadata": {},
   "source": [
    "# Exercises on Aiyagari model: roles of taxation and redistribution\n",
    "\n",
    "This exercise is primarily based on [lecture notes by Toshihiko Mukoyama (Georgetown University)](https://toshimukoyama.github.io/MyWebsite/Lecture2_Tokyo.pdf). All errors herein are mine.\n",
    "\n",
    "\n",
    "Consider a government who imposes wealth tax $\\tau$ (ie., take away $\\tau a$) from households and transfer back in lump-sum manner.\n",
    "\n",
    "- Refactor the code by separating it into: (i) a function for solving the household problem with interest rate as input, (ii) a routine for solving general equilibrium, and (iii) a struct for model parameters. Place each component in its own Julia source file (e.g., `household.jl`, `equilibrium.jl`, `params.jl`). Then, plot the demand and supply curves for capital in a single figure. \n",
    "\n",
    "- Endogenous labor supply: Consider that now the periodic utility function is given as\n",
    "$$\n",
    "U(c,l) = \\frac{(c^\\omega l^{1-\\omega})^{1-\\mu}}{1-\\mu},\n",
    "$$\n",
    "where $l\\in(0,1)$ denotes the time spent in leisure, given the time endowment of 1. $\\omega\\in(0,1)$ is the weight parameter between consumption and leisure. The labor earnings are now given as $wz(1-l)$.\n",
    "\n",
    "- Calibrate the model: i.e., determine $\\beta$ so that capital-to-output ratio $K/Y\\approx 3.0$. Also, determine $\\omega$ so that time spent in labor is 0.33.\n",
    "- Introduce such government into the model, considering government budget balance. Set $\\tau=0.05$. Equilibrium lump-sum tax, $T$, is determined endogenously.\n",
    "- Evaluate the welfare effects of the policy based on the ex-ante perspective. That is, compute the consumption equivalence according to the formula:\n",
    "\n",
    "$$\n",
    "\\mathbb{E}_{z\\mid z_0}\\sum_{t=0}^\\infty u(c^0_t(a_t,z_t)(1+\\lambda)) = \\mathbb{E}_{z\\mid z_0}\\sum_{t=0}^\\infty u(c^1_t(a_t,z_t)),\n",
    "$$\n",
    "where\n",
    "$c^0_t(a_t,z_t)$ and $c^1_t(a_t,z_t)$ denote the consumption policy with and without the wealth tax.\n",
    "- Does the policy improve (ex-ante) welfare? If so, why? Do the welfare implications differ if income is less volatile? (e.g., smaller $\\sigma$)\n",
    "- (Optional) Solve the transitional dynamics."
   ]
  }
 ],
 "metadata": {
  "language_info": {
   "name": "python"
  }
 },
 "nbformat": 4,
 "nbformat_minor": 5
}
